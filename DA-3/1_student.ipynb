{
  "nbformat": 4,
  "nbformat_minor": 0,
  "metadata": {
    "colab": {
      "provenance": []
    },
    "kernelspec": {
      "name": "python3",
      "display_name": "Python 3"
    },
    "language_info": {
      "name": "python"
    }
  },
  "cells": [
    {
      "cell_type": "code",
      "execution_count": 14,
      "metadata": {
        "id": "ZL3mg2aUsO4R"
      },
      "outputs": [],
      "source": [
        "import pandas as pd\n",
        "from sklearn.model_selection import train_test_split\n",
        "from sklearn.preprocessing import StandardScaler\n",
        "from sklearn.neighbors import KNeighborsClassifier\n",
        "from sklearn.metrics import classification_report, confusion_matrix\n",
        "import matplotlib.pyplot as plt\n",
        "import seaborn as sns"
      ]
    },
    {
      "cell_type": "markdown",
      "source": [
        "# Load the dataset"
      ],
      "metadata": {
        "id": "ioVaSC6OsdkE"
      }
    },
    {
      "cell_type": "code",
      "source": [
        "df = pd.read_csv(\"1.student_data.csv\")"
      ],
      "metadata": {
        "id": "xJg3tCThsfWj"
      },
      "execution_count": 5,
      "outputs": []
    },
    {
      "cell_type": "markdown",
      "source": [
        "# Prepare the features (Attendance, Performance) and target (Likely_Dropout)"
      ],
      "metadata": {
        "id": "XK1Vi-Ycsguo"
      }
    },
    {
      "cell_type": "code",
      "source": [
        "X = df[[\"Attendance\", \"Performance\"]]\n",
        "y = df[\"Likely_Dropout\"]\n"
      ],
      "metadata": {
        "id": "-yLHZb0OsiGT"
      },
      "execution_count": 6,
      "outputs": []
    },
    {
      "cell_type": "markdown",
      "source": [
        "# Split the data into training and test sets"
      ],
      "metadata": {
        "id": "9APIIi7ysjOt"
      }
    },
    {
      "cell_type": "code",
      "source": [
        "X_train, X_test, y_train, y_test = train_test_split(X, y, test_size=0.2, random_state=42)"
      ],
      "metadata": {
        "id": "GTrOSdLAsl3k"
      },
      "execution_count": 7,
      "outputs": []
    },
    {
      "cell_type": "markdown",
      "source": [
        "# Standardize the features (KNN performs better with standardized data)\n",
        "\n",
        "---\n",
        "\n"
      ],
      "metadata": {
        "id": "JhLNFmm6sxwq"
      }
    },
    {
      "cell_type": "code",
      "source": [
        "scaler = StandardScaler()\n",
        "X_train_scaled = scaler.fit_transform(X_train)\n",
        "X_test_scaled = scaler.transform(X_test)"
      ],
      "metadata": {
        "id": "--XOY-avs0Ne"
      },
      "execution_count": 8,
      "outputs": []
    },
    {
      "cell_type": "markdown",
      "source": [
        "# Implement the KNN classifier with 3 neighbors (k=3)"
      ],
      "metadata": {
        "id": "iWiSp1Wys1b1"
      }
    },
    {
      "cell_type": "code",
      "source": [
        "knn = KNeighborsClassifier(n_neighbors=3)\n",
        "knn.fit(X_train_scaled, y_train)"
      ],
      "metadata": {
        "colab": {
          "base_uri": "https://localhost:8080/",
          "height": 80
        },
        "id": "mkLThQB4s19Z",
        "outputId": "1b1d1572-bfaf-4c0c-e577-03832baf4e62"
      },
      "execution_count": 9,
      "outputs": [
        {
          "output_type": "execute_result",
          "data": {
            "text/plain": [
              "KNeighborsClassifier(n_neighbors=3)"
            ],
            "text/html": [
              "<style>#sk-container-id-1 {\n",
              "  /* Definition of color scheme common for light and dark mode */\n",
              "  --sklearn-color-text: black;\n",
              "  --sklearn-color-line: gray;\n",
              "  /* Definition of color scheme for unfitted estimators */\n",
              "  --sklearn-color-unfitted-level-0: #fff5e6;\n",
              "  --sklearn-color-unfitted-level-1: #f6e4d2;\n",
              "  --sklearn-color-unfitted-level-2: #ffe0b3;\n",
              "  --sklearn-color-unfitted-level-3: chocolate;\n",
              "  /* Definition of color scheme for fitted estimators */\n",
              "  --sklearn-color-fitted-level-0: #f0f8ff;\n",
              "  --sklearn-color-fitted-level-1: #d4ebff;\n",
              "  --sklearn-color-fitted-level-2: #b3dbfd;\n",
              "  --sklearn-color-fitted-level-3: cornflowerblue;\n",
              "\n",
              "  /* Specific color for light theme */\n",
              "  --sklearn-color-text-on-default-background: var(--sg-text-color, var(--theme-code-foreground, var(--jp-content-font-color1, black)));\n",
              "  --sklearn-color-background: var(--sg-background-color, var(--theme-background, var(--jp-layout-color0, white)));\n",
              "  --sklearn-color-border-box: var(--sg-text-color, var(--theme-code-foreground, var(--jp-content-font-color1, black)));\n",
              "  --sklearn-color-icon: #696969;\n",
              "\n",
              "  @media (prefers-color-scheme: dark) {\n",
              "    /* Redefinition of color scheme for dark theme */\n",
              "    --sklearn-color-text-on-default-background: var(--sg-text-color, var(--theme-code-foreground, var(--jp-content-font-color1, white)));\n",
              "    --sklearn-color-background: var(--sg-background-color, var(--theme-background, var(--jp-layout-color0, #111)));\n",
              "    --sklearn-color-border-box: var(--sg-text-color, var(--theme-code-foreground, var(--jp-content-font-color1, white)));\n",
              "    --sklearn-color-icon: #878787;\n",
              "  }\n",
              "}\n",
              "\n",
              "#sk-container-id-1 {\n",
              "  color: var(--sklearn-color-text);\n",
              "}\n",
              "\n",
              "#sk-container-id-1 pre {\n",
              "  padding: 0;\n",
              "}\n",
              "\n",
              "#sk-container-id-1 input.sk-hidden--visually {\n",
              "  border: 0;\n",
              "  clip: rect(1px 1px 1px 1px);\n",
              "  clip: rect(1px, 1px, 1px, 1px);\n",
              "  height: 1px;\n",
              "  margin: -1px;\n",
              "  overflow: hidden;\n",
              "  padding: 0;\n",
              "  position: absolute;\n",
              "  width: 1px;\n",
              "}\n",
              "\n",
              "#sk-container-id-1 div.sk-dashed-wrapped {\n",
              "  border: 1px dashed var(--sklearn-color-line);\n",
              "  margin: 0 0.4em 0.5em 0.4em;\n",
              "  box-sizing: border-box;\n",
              "  padding-bottom: 0.4em;\n",
              "  background-color: var(--sklearn-color-background);\n",
              "}\n",
              "\n",
              "#sk-container-id-1 div.sk-container {\n",
              "  /* jupyter's `normalize.less` sets `[hidden] { display: none; }`\n",
              "     but bootstrap.min.css set `[hidden] { display: none !important; }`\n",
              "     so we also need the `!important` here to be able to override the\n",
              "     default hidden behavior on the sphinx rendered scikit-learn.org.\n",
              "     See: https://github.com/scikit-learn/scikit-learn/issues/21755 */\n",
              "  display: inline-block !important;\n",
              "  position: relative;\n",
              "}\n",
              "\n",
              "#sk-container-id-1 div.sk-text-repr-fallback {\n",
              "  display: none;\n",
              "}\n",
              "\n",
              "div.sk-parallel-item,\n",
              "div.sk-serial,\n",
              "div.sk-item {\n",
              "  /* draw centered vertical line to link estimators */\n",
              "  background-image: linear-gradient(var(--sklearn-color-text-on-default-background), var(--sklearn-color-text-on-default-background));\n",
              "  background-size: 2px 100%;\n",
              "  background-repeat: no-repeat;\n",
              "  background-position: center center;\n",
              "}\n",
              "\n",
              "/* Parallel-specific style estimator block */\n",
              "\n",
              "#sk-container-id-1 div.sk-parallel-item::after {\n",
              "  content: \"\";\n",
              "  width: 100%;\n",
              "  border-bottom: 2px solid var(--sklearn-color-text-on-default-background);\n",
              "  flex-grow: 1;\n",
              "}\n",
              "\n",
              "#sk-container-id-1 div.sk-parallel {\n",
              "  display: flex;\n",
              "  align-items: stretch;\n",
              "  justify-content: center;\n",
              "  background-color: var(--sklearn-color-background);\n",
              "  position: relative;\n",
              "}\n",
              "\n",
              "#sk-container-id-1 div.sk-parallel-item {\n",
              "  display: flex;\n",
              "  flex-direction: column;\n",
              "}\n",
              "\n",
              "#sk-container-id-1 div.sk-parallel-item:first-child::after {\n",
              "  align-self: flex-end;\n",
              "  width: 50%;\n",
              "}\n",
              "\n",
              "#sk-container-id-1 div.sk-parallel-item:last-child::after {\n",
              "  align-self: flex-start;\n",
              "  width: 50%;\n",
              "}\n",
              "\n",
              "#sk-container-id-1 div.sk-parallel-item:only-child::after {\n",
              "  width: 0;\n",
              "}\n",
              "\n",
              "/* Serial-specific style estimator block */\n",
              "\n",
              "#sk-container-id-1 div.sk-serial {\n",
              "  display: flex;\n",
              "  flex-direction: column;\n",
              "  align-items: center;\n",
              "  background-color: var(--sklearn-color-background);\n",
              "  padding-right: 1em;\n",
              "  padding-left: 1em;\n",
              "}\n",
              "\n",
              "\n",
              "/* Toggleable style: style used for estimator/Pipeline/ColumnTransformer box that is\n",
              "clickable and can be expanded/collapsed.\n",
              "- Pipeline and ColumnTransformer use this feature and define the default style\n",
              "- Estimators will overwrite some part of the style using the `sk-estimator` class\n",
              "*/\n",
              "\n",
              "/* Pipeline and ColumnTransformer style (default) */\n",
              "\n",
              "#sk-container-id-1 div.sk-toggleable {\n",
              "  /* Default theme specific background. It is overwritten whether we have a\n",
              "  specific estimator or a Pipeline/ColumnTransformer */\n",
              "  background-color: var(--sklearn-color-background);\n",
              "}\n",
              "\n",
              "/* Toggleable label */\n",
              "#sk-container-id-1 label.sk-toggleable__label {\n",
              "  cursor: pointer;\n",
              "  display: block;\n",
              "  width: 100%;\n",
              "  margin-bottom: 0;\n",
              "  padding: 0.5em;\n",
              "  box-sizing: border-box;\n",
              "  text-align: center;\n",
              "}\n",
              "\n",
              "#sk-container-id-1 label.sk-toggleable__label-arrow:before {\n",
              "  /* Arrow on the left of the label */\n",
              "  content: \"▸\";\n",
              "  float: left;\n",
              "  margin-right: 0.25em;\n",
              "  color: var(--sklearn-color-icon);\n",
              "}\n",
              "\n",
              "#sk-container-id-1 label.sk-toggleable__label-arrow:hover:before {\n",
              "  color: var(--sklearn-color-text);\n",
              "}\n",
              "\n",
              "/* Toggleable content - dropdown */\n",
              "\n",
              "#sk-container-id-1 div.sk-toggleable__content {\n",
              "  max-height: 0;\n",
              "  max-width: 0;\n",
              "  overflow: hidden;\n",
              "  text-align: left;\n",
              "  /* unfitted */\n",
              "  background-color: var(--sklearn-color-unfitted-level-0);\n",
              "}\n",
              "\n",
              "#sk-container-id-1 div.sk-toggleable__content.fitted {\n",
              "  /* fitted */\n",
              "  background-color: var(--sklearn-color-fitted-level-0);\n",
              "}\n",
              "\n",
              "#sk-container-id-1 div.sk-toggleable__content pre {\n",
              "  margin: 0.2em;\n",
              "  border-radius: 0.25em;\n",
              "  color: var(--sklearn-color-text);\n",
              "  /* unfitted */\n",
              "  background-color: var(--sklearn-color-unfitted-level-0);\n",
              "}\n",
              "\n",
              "#sk-container-id-1 div.sk-toggleable__content.fitted pre {\n",
              "  /* unfitted */\n",
              "  background-color: var(--sklearn-color-fitted-level-0);\n",
              "}\n",
              "\n",
              "#sk-container-id-1 input.sk-toggleable__control:checked~div.sk-toggleable__content {\n",
              "  /* Expand drop-down */\n",
              "  max-height: 200px;\n",
              "  max-width: 100%;\n",
              "  overflow: auto;\n",
              "}\n",
              "\n",
              "#sk-container-id-1 input.sk-toggleable__control:checked~label.sk-toggleable__label-arrow:before {\n",
              "  content: \"▾\";\n",
              "}\n",
              "\n",
              "/* Pipeline/ColumnTransformer-specific style */\n",
              "\n",
              "#sk-container-id-1 div.sk-label input.sk-toggleable__control:checked~label.sk-toggleable__label {\n",
              "  color: var(--sklearn-color-text);\n",
              "  background-color: var(--sklearn-color-unfitted-level-2);\n",
              "}\n",
              "\n",
              "#sk-container-id-1 div.sk-label.fitted input.sk-toggleable__control:checked~label.sk-toggleable__label {\n",
              "  background-color: var(--sklearn-color-fitted-level-2);\n",
              "}\n",
              "\n",
              "/* Estimator-specific style */\n",
              "\n",
              "/* Colorize estimator box */\n",
              "#sk-container-id-1 div.sk-estimator input.sk-toggleable__control:checked~label.sk-toggleable__label {\n",
              "  /* unfitted */\n",
              "  background-color: var(--sklearn-color-unfitted-level-2);\n",
              "}\n",
              "\n",
              "#sk-container-id-1 div.sk-estimator.fitted input.sk-toggleable__control:checked~label.sk-toggleable__label {\n",
              "  /* fitted */\n",
              "  background-color: var(--sklearn-color-fitted-level-2);\n",
              "}\n",
              "\n",
              "#sk-container-id-1 div.sk-label label.sk-toggleable__label,\n",
              "#sk-container-id-1 div.sk-label label {\n",
              "  /* The background is the default theme color */\n",
              "  color: var(--sklearn-color-text-on-default-background);\n",
              "}\n",
              "\n",
              "/* On hover, darken the color of the background */\n",
              "#sk-container-id-1 div.sk-label:hover label.sk-toggleable__label {\n",
              "  color: var(--sklearn-color-text);\n",
              "  background-color: var(--sklearn-color-unfitted-level-2);\n",
              "}\n",
              "\n",
              "/* Label box, darken color on hover, fitted */\n",
              "#sk-container-id-1 div.sk-label.fitted:hover label.sk-toggleable__label.fitted {\n",
              "  color: var(--sklearn-color-text);\n",
              "  background-color: var(--sklearn-color-fitted-level-2);\n",
              "}\n",
              "\n",
              "/* Estimator label */\n",
              "\n",
              "#sk-container-id-1 div.sk-label label {\n",
              "  font-family: monospace;\n",
              "  font-weight: bold;\n",
              "  display: inline-block;\n",
              "  line-height: 1.2em;\n",
              "}\n",
              "\n",
              "#sk-container-id-1 div.sk-label-container {\n",
              "  text-align: center;\n",
              "}\n",
              "\n",
              "/* Estimator-specific */\n",
              "#sk-container-id-1 div.sk-estimator {\n",
              "  font-family: monospace;\n",
              "  border: 1px dotted var(--sklearn-color-border-box);\n",
              "  border-radius: 0.25em;\n",
              "  box-sizing: border-box;\n",
              "  margin-bottom: 0.5em;\n",
              "  /* unfitted */\n",
              "  background-color: var(--sklearn-color-unfitted-level-0);\n",
              "}\n",
              "\n",
              "#sk-container-id-1 div.sk-estimator.fitted {\n",
              "  /* fitted */\n",
              "  background-color: var(--sklearn-color-fitted-level-0);\n",
              "}\n",
              "\n",
              "/* on hover */\n",
              "#sk-container-id-1 div.sk-estimator:hover {\n",
              "  /* unfitted */\n",
              "  background-color: var(--sklearn-color-unfitted-level-2);\n",
              "}\n",
              "\n",
              "#sk-container-id-1 div.sk-estimator.fitted:hover {\n",
              "  /* fitted */\n",
              "  background-color: var(--sklearn-color-fitted-level-2);\n",
              "}\n",
              "\n",
              "/* Specification for estimator info (e.g. \"i\" and \"?\") */\n",
              "\n",
              "/* Common style for \"i\" and \"?\" */\n",
              "\n",
              ".sk-estimator-doc-link,\n",
              "a:link.sk-estimator-doc-link,\n",
              "a:visited.sk-estimator-doc-link {\n",
              "  float: right;\n",
              "  font-size: smaller;\n",
              "  line-height: 1em;\n",
              "  font-family: monospace;\n",
              "  background-color: var(--sklearn-color-background);\n",
              "  border-radius: 1em;\n",
              "  height: 1em;\n",
              "  width: 1em;\n",
              "  text-decoration: none !important;\n",
              "  margin-left: 1ex;\n",
              "  /* unfitted */\n",
              "  border: var(--sklearn-color-unfitted-level-1) 1pt solid;\n",
              "  color: var(--sklearn-color-unfitted-level-1);\n",
              "}\n",
              "\n",
              ".sk-estimator-doc-link.fitted,\n",
              "a:link.sk-estimator-doc-link.fitted,\n",
              "a:visited.sk-estimator-doc-link.fitted {\n",
              "  /* fitted */\n",
              "  border: var(--sklearn-color-fitted-level-1) 1pt solid;\n",
              "  color: var(--sklearn-color-fitted-level-1);\n",
              "}\n",
              "\n",
              "/* On hover */\n",
              "div.sk-estimator:hover .sk-estimator-doc-link:hover,\n",
              ".sk-estimator-doc-link:hover,\n",
              "div.sk-label-container:hover .sk-estimator-doc-link:hover,\n",
              ".sk-estimator-doc-link:hover {\n",
              "  /* unfitted */\n",
              "  background-color: var(--sklearn-color-unfitted-level-3);\n",
              "  color: var(--sklearn-color-background);\n",
              "  text-decoration: none;\n",
              "}\n",
              "\n",
              "div.sk-estimator.fitted:hover .sk-estimator-doc-link.fitted:hover,\n",
              ".sk-estimator-doc-link.fitted:hover,\n",
              "div.sk-label-container:hover .sk-estimator-doc-link.fitted:hover,\n",
              ".sk-estimator-doc-link.fitted:hover {\n",
              "  /* fitted */\n",
              "  background-color: var(--sklearn-color-fitted-level-3);\n",
              "  color: var(--sklearn-color-background);\n",
              "  text-decoration: none;\n",
              "}\n",
              "\n",
              "/* Span, style for the box shown on hovering the info icon */\n",
              ".sk-estimator-doc-link span {\n",
              "  display: none;\n",
              "  z-index: 9999;\n",
              "  position: relative;\n",
              "  font-weight: normal;\n",
              "  right: .2ex;\n",
              "  padding: .5ex;\n",
              "  margin: .5ex;\n",
              "  width: min-content;\n",
              "  min-width: 20ex;\n",
              "  max-width: 50ex;\n",
              "  color: var(--sklearn-color-text);\n",
              "  box-shadow: 2pt 2pt 4pt #999;\n",
              "  /* unfitted */\n",
              "  background: var(--sklearn-color-unfitted-level-0);\n",
              "  border: .5pt solid var(--sklearn-color-unfitted-level-3);\n",
              "}\n",
              "\n",
              ".sk-estimator-doc-link.fitted span {\n",
              "  /* fitted */\n",
              "  background: var(--sklearn-color-fitted-level-0);\n",
              "  border: var(--sklearn-color-fitted-level-3);\n",
              "}\n",
              "\n",
              ".sk-estimator-doc-link:hover span {\n",
              "  display: block;\n",
              "}\n",
              "\n",
              "/* \"?\"-specific style due to the `<a>` HTML tag */\n",
              "\n",
              "#sk-container-id-1 a.estimator_doc_link {\n",
              "  float: right;\n",
              "  font-size: 1rem;\n",
              "  line-height: 1em;\n",
              "  font-family: monospace;\n",
              "  background-color: var(--sklearn-color-background);\n",
              "  border-radius: 1rem;\n",
              "  height: 1rem;\n",
              "  width: 1rem;\n",
              "  text-decoration: none;\n",
              "  /* unfitted */\n",
              "  color: var(--sklearn-color-unfitted-level-1);\n",
              "  border: var(--sklearn-color-unfitted-level-1) 1pt solid;\n",
              "}\n",
              "\n",
              "#sk-container-id-1 a.estimator_doc_link.fitted {\n",
              "  /* fitted */\n",
              "  border: var(--sklearn-color-fitted-level-1) 1pt solid;\n",
              "  color: var(--sklearn-color-fitted-level-1);\n",
              "}\n",
              "\n",
              "/* On hover */\n",
              "#sk-container-id-1 a.estimator_doc_link:hover {\n",
              "  /* unfitted */\n",
              "  background-color: var(--sklearn-color-unfitted-level-3);\n",
              "  color: var(--sklearn-color-background);\n",
              "  text-decoration: none;\n",
              "}\n",
              "\n",
              "#sk-container-id-1 a.estimator_doc_link.fitted:hover {\n",
              "  /* fitted */\n",
              "  background-color: var(--sklearn-color-fitted-level-3);\n",
              "}\n",
              "</style><div id=\"sk-container-id-1\" class=\"sk-top-container\"><div class=\"sk-text-repr-fallback\"><pre>KNeighborsClassifier(n_neighbors=3)</pre><b>In a Jupyter environment, please rerun this cell to show the HTML representation or trust the notebook. <br />On GitHub, the HTML representation is unable to render, please try loading this page with nbviewer.org.</b></div><div class=\"sk-container\" hidden><div class=\"sk-item\"><div class=\"sk-estimator fitted sk-toggleable\"><input class=\"sk-toggleable__control sk-hidden--visually\" id=\"sk-estimator-id-1\" type=\"checkbox\" checked><label for=\"sk-estimator-id-1\" class=\"sk-toggleable__label fitted sk-toggleable__label-arrow fitted\">&nbsp;&nbsp;KNeighborsClassifier<a class=\"sk-estimator-doc-link fitted\" rel=\"noreferrer\" target=\"_blank\" href=\"https://scikit-learn.org/1.5/modules/generated/sklearn.neighbors.KNeighborsClassifier.html\">?<span>Documentation for KNeighborsClassifier</span></a><span class=\"sk-estimator-doc-link fitted\">i<span>Fitted</span></span></label><div class=\"sk-toggleable__content fitted\"><pre>KNeighborsClassifier(n_neighbors=3)</pre></div> </div></div></div></div>"
            ]
          },
          "metadata": {},
          "execution_count": 9
        }
      ]
    },
    {
      "cell_type": "markdown",
      "source": [
        "# Make predictions on the test set"
      ],
      "metadata": {
        "id": "omQfOll_s22c"
      }
    },
    {
      "cell_type": "code",
      "source": [
        "y_pred = knn.predict(X_test_scaled)"
      ],
      "metadata": {
        "id": "CuvLrMBGs46I"
      },
      "execution_count": 10,
      "outputs": []
    },
    {
      "cell_type": "markdown",
      "source": [
        "# Display classification report to evaluate the model"
      ],
      "metadata": {
        "id": "_FEQHyTts5-i"
      }
    },
    {
      "cell_type": "code",
      "source": [
        "report = classification_report(y_test, y_pred)\n",
        "print(\"RegNo.21BBS0166\")\n",
        "print(report)"
      ],
      "metadata": {
        "colab": {
          "base_uri": "https://localhost:8080/"
        },
        "id": "L5q9nh3ms6P1",
        "outputId": "be46276d-1c58-4d8f-8653-b9bb162d81f0"
      },
      "execution_count": 18,
      "outputs": [
        {
          "output_type": "stream",
          "name": "stdout",
          "text": [
            "RegNo.21BBS0166\n",
            "              precision    recall  f1-score   support\n",
            "\n",
            "       False       0.57      0.57      0.57         7\n",
            "        True       0.40      0.40      0.40         5\n",
            "\n",
            "    accuracy                           0.50        12\n",
            "   macro avg       0.49      0.49      0.49        12\n",
            "weighted avg       0.50      0.50      0.50        12\n",
            "\n"
          ]
        }
      ]
    },
    {
      "cell_type": "markdown",
      "source": [
        "# Display the predicted classifications along with the students' information"
      ],
      "metadata": {
        "id": "Q332gJBys7Ad"
      }
    },
    {
      "cell_type": "code",
      "source": [
        "predicted_df = X_test.copy()\n",
        "predicted_df[\"Actual_Likely_Dropout\"] = y_test.values\n",
        "predicted_df[\"Predicted_Likely_Dropout\"] = y_pred"
      ],
      "metadata": {
        "id": "UHUbPiB2s9al"
      },
      "execution_count": 12,
      "outputs": []
    },
    {
      "cell_type": "markdown",
      "source": [
        "# Merge the predicted values with the original dataset to include Student_ID and Subject"
      ],
      "metadata": {
        "id": "oZdMk9FIs9qO"
      }
    },
    {
      "cell_type": "code",
      "source": [
        "result_df = df.loc[predicted_df.index, [\"Student_ID\", \"Subject\"]].copy()\n",
        "result_df[\"Actual_Likely_Dropout\"] = y_test.values\n",
        "result_df[\"Predicted_Likely_Dropout\"] = y_pred\n",
        "print(\"RegNo.21BBS0166\")\n",
        "print(result_df)"
      ],
      "metadata": {
        "colab": {
          "base_uri": "https://localhost:8080/"
        },
        "id": "1ctsoGU8s-lW",
        "outputId": "7da625ab-5342-48a5-cb59-a85d8c73990a"
      },
      "execution_count": 17,
      "outputs": [
        {
          "output_type": "stream",
          "name": "stdout",
          "text": [
            "RegNo.21BBS0166\n",
            "    Student_ID             Subject  Actual_Likely_Dropout  \\\n",
            "0            1   Information Audit                  False   \n",
            "5            6   Information Audit                   True   \n",
            "36          37         Data Mining                  False   \n",
            "45          46          Modern Web                   True   \n",
            "13          14   Information Audit                  False   \n",
            "54          55         Data Mining                   True   \n",
            "33          34   Information Audit                  False   \n",
            "48          49  Service Management                   True   \n",
            "12          13   Information Audit                   True   \n",
            "57          58  Service Management                  False   \n",
            "46          47          Modern Web                  False   \n",
            "50          51         Data Mining                  False   \n",
            "\n",
            "    Predicted_Likely_Dropout  \n",
            "0                      False  \n",
            "5                      False  \n",
            "36                      True  \n",
            "45                     False  \n",
            "13                     False  \n",
            "54                      True  \n",
            "33                     False  \n",
            "48                     False  \n",
            "12                      True  \n",
            "57                      True  \n",
            "46                      True  \n",
            "50                     False  \n"
          ]
        }
      ]
    },
    {
      "cell_type": "markdown",
      "source": [
        "# Display the confusion matrix"
      ],
      "metadata": {
        "id": "UAwuVS4b19ki"
      }
    },
    {
      "cell_type": "code",
      "source": [
        "cm = confusion_matrix(y_test, y_pred)\n",
        "print(\"Confusion Matrix:\\n\", cm)"
      ],
      "metadata": {
        "colab": {
          "base_uri": "https://localhost:8080/"
        },
        "id": "xvY3mwgb19NJ",
        "outputId": "7f815132-ce3f-48b3-88b2-ef20e32ef048"
      },
      "execution_count": 15,
      "outputs": [
        {
          "output_type": "stream",
          "name": "stdout",
          "text": [
            "Confusion Matrix:\n",
            " [[4 3]\n",
            " [3 2]]\n"
          ]
        }
      ]
    },
    {
      "cell_type": "markdown",
      "source": [
        "# Plot the student performance classification for the test set"
      ],
      "metadata": {
        "id": "mteLOubh1-en"
      }
    },
    {
      "cell_type": "code",
      "source": [
        "  plt.figure(figsize=(10, 6))\n",
        "  sns.scatterplot(x=X_test[\"Attendance\"], y=X_test[\"Performance\"], hue=y_test, style=y_pred, palette=\"coolwarm\", s=100)\n",
        "  plt.title(\"KNN Classification: Actual vs Predicted Likely Dropout (Test Set) RegNo.21BBS0166\")\n",
        "  plt.xlabel(\"Attendance (%)\")\n",
        "  plt.ylabel(\"Performance (%)\")\n",
        "  plt.legend(title=\"Dropout Prediction\", loc=\"upper right\")\n",
        "  plt.grid(True)\n",
        "  plt.show()"
      ],
      "metadata": {
        "colab": {
          "base_uri": "https://localhost:8080/",
          "height": 564
        },
        "id": "aS75I4lO1_Wp",
        "outputId": "bac9a808-a2dd-4a04-9026-e7c27b1e7fce"
      },
      "execution_count": 20,
      "outputs": [
        {
          "output_type": "display_data",
          "data": {
            "text/plain": [
              "<Figure size 1000x600 with 1 Axes>"
            ],
            "image/png": "[encoded data removed]"
          },
          "metadata": {}
        }
      ]
    },
    {
      "cell_type": "markdown",
      "source": [
        "# Classify the students into \"Drop\", \"Fail\", and \"Pass\" based on certain criteria"
      ],
      "metadata": {
        "id": "z8CVFNGV2ATo"
      }
    },
    {
      "cell_type": "code",
      "source": [
        "  pass_fail_threshold = 40  # Performance below 40 is fail\n",
        "  drop_threshold = 75  # Attendance below 75 is dropout"
      ],
      "metadata": {
        "id": "f9NN1raF2BP2"
      },
      "execution_count": 21,
      "outputs": []
    },
    {
      "cell_type": "markdown",
      "source": [
        "# Generate classifications based on thresholds"
      ],
      "metadata": {
        "id": "X4fJrFul2CRJ"
      }
    },
    {
      "cell_type": "code",
      "source": [
        "def classify_student(attendance, performance):\n",
        "    if attendance < drop_threshold:\n",
        "        return \"Drop\"\n",
        "    elif performance < pass_fail_threshold:\n",
        "        return \"Fail\"\n",
        "    else:\n",
        "        return \"Pass\""
      ],
      "metadata": {
        "id": "4abcaay02DLG"
      },
      "execution_count": 22,
      "outputs": []
    },
    {
      "cell_type": "markdown",
      "source": [
        "# Apply the classification to the dataset"
      ],
      "metadata": {
        "id": "lNIRm6kS2EPs"
      }
    },
    {
      "cell_type": "code",
      "source": [
        "df[\"Classification\"] = df.apply(lambda row: classify_student(row[\"Attendance\"], row[\"Performance\"]), axis=1)"
      ],
      "metadata": {
        "id": "4aZtKtun2FBz"
      },
      "execution_count": 23,
      "outputs": []
    },
    {
      "cell_type": "markdown",
      "source": [
        "# Count the number of students in each classification"
      ],
      "metadata": {
        "id": "iaBmgBA92F30"
      }
    },
    {
      "cell_type": "code",
      "source": [
        "drop_students = df[df[\"Classification\"] == \"Drop\"]\n",
        "fail_students = df[df[\"Classification\"] == \"Fail\"]\n",
        "pass_students = df[df[\"Classification\"] == \"Pass\"]"
      ],
      "metadata": {
        "id": "yGkTFWlf2HTS"
      },
      "execution_count": 24,
      "outputs": []
    },
    {
      "cell_type": "markdown",
      "source": [
        "# Display the detailed classification of each student"
      ],
      "metadata": {
        "id": "ZbvHnQLM2IQh"
      }
    },
    {
      "cell_type": "code",
      "source": [
        "for index, row in df.iterrows():\n",
        "    print(f\"Roll Number: {row['Student_ID']}, Classification: {row['Classification']}\")"
      ],
      "metadata": {
        "colab": {
          "base_uri": "https://localhost:8080/"
        },
        "id": "LTNBqLVn2JPG",
        "outputId": "34058457-ab5c-4068-b2c9-30f00c09a9c8"
      },
      "execution_count": 25,
      "outputs": [
        {
          "output_type": "stream",
          "name": "stdout",
          "text": [
            "Roll Number: 1, Classification: Pass\n",
            "Roll Number: 2, Classification: Pass\n",
            "Roll Number: 3, Classification: Drop\n",
            "Roll Number: 4, Classification: Pass\n",
            "Roll Number: 5, Classification: Drop\n",
            "Roll Number: 6, Classification: Drop\n",
            "Roll Number: 7, Classification: Pass\n",
            "Roll Number: 8, Classification: Pass\n",
            "Roll Number: 9, Classification: Drop\n",
            "Roll Number: 10, Classification: Pass\n",
            "Roll Number: 11, Classification: Pass\n",
            "Roll Number: 12, Classification: Pass\n",
            "Roll Number: 13, Classification: Pass\n",
            "Roll Number: 14, Classification: Pass\n",
            "Roll Number: 15, Classification: Drop\n",
            "Roll Number: 16, Classification: Drop\n",
            "Roll Number: 17, Classification: Pass\n",
            "Roll Number: 18, Classification: Pass\n",
            "Roll Number: 19, Classification: Pass\n",
            "Roll Number: 20, Classification: Drop\n",
            "Roll Number: 21, Classification: Drop\n",
            "Roll Number: 22, Classification: Pass\n",
            "Roll Number: 23, Classification: Pass\n",
            "Roll Number: 24, Classification: Pass\n",
            "Roll Number: 25, Classification: Pass\n",
            "Roll Number: 26, Classification: Drop\n",
            "Roll Number: 27, Classification: Pass\n",
            "Roll Number: 28, Classification: Pass\n",
            "Roll Number: 29, Classification: Pass\n",
            "Roll Number: 30, Classification: Pass\n",
            "Roll Number: 31, Classification: Drop\n",
            "Roll Number: 32, Classification: Pass\n",
            "Roll Number: 33, Classification: Drop\n",
            "Roll Number: 34, Classification: Pass\n",
            "Roll Number: 35, Classification: Drop\n",
            "Roll Number: 36, Classification: Pass\n",
            "Roll Number: 37, Classification: Drop\n",
            "Roll Number: 38, Classification: Pass\n",
            "Roll Number: 39, Classification: Pass\n",
            "Roll Number: 40, Classification: Drop\n",
            "Roll Number: 41, Classification: Drop\n",
            "Roll Number: 42, Classification: Drop\n",
            "Roll Number: 43, Classification: Pass\n",
            "Roll Number: 44, Classification: Drop\n",
            "Roll Number: 45, Classification: Pass\n",
            "Roll Number: 46, Classification: Drop\n",
            "Roll Number: 47, Classification: Pass\n",
            "Roll Number: 48, Classification: Pass\n",
            "Roll Number: 49, Classification: Pass\n",
            "Roll Number: 50, Classification: Drop\n",
            "Roll Number: 51, Classification: Pass\n",
            "Roll Number: 52, Classification: Drop\n",
            "Roll Number: 53, Classification: Pass\n",
            "Roll Number: 54, Classification: Drop\n",
            "Roll Number: 55, Classification: Drop\n",
            "Roll Number: 56, Classification: Drop\n",
            "Roll Number: 57, Classification: Pass\n",
            "Roll Number: 58, Classification: Pass\n",
            "Roll Number: 59, Classification: Pass\n",
            "Roll Number: 60, Classification: Pass\n"
          ]
        }
      ]
    },
    {
      "cell_type": "markdown",
      "source": [
        "# Summarize the classification results"
      ],
      "metadata": {
        "id": "j0lcD1Sl2KKa"
      }
    },
    {
      "cell_type": "code",
      "source": [
        "print(f\"\\nTotal students at risk of dropping out: {len(drop_students)}\")\n",
        "print(f\"Total failing students: {len(fail_students)}\")\n",
        "print(f\"Total passing students: {len(pass_students)}\")"
      ],
      "metadata": {
        "colab": {
          "base_uri": "https://localhost:8080/"
        },
        "id": "DWHMkJ2p2K-8",
        "outputId": "c734c490-de57-41a5-fa39-3f0d822748cc"
      },
      "execution_count": 26,
      "outputs": [
        {
          "output_type": "stream",
          "name": "stdout",
          "text": [
            "\n",
            "Total students at risk of dropping out: 23\n",
            "Total failing students: 0\n",
            "Total passing students: 37\n"
          ]
        }
      ]
    }
  ]
}